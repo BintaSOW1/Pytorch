{
  "nbformat": 4,
  "nbformat_minor": 0,
  "metadata": {
    "colab": {
      "provenance": []
    },
    "kernelspec": {
      "name": "python3",
      "display_name": "Python 3"
    },
    "language_info": {
      "name": "python"
    },
    "accelerator": "GPU",
    "gpuClass": "standard"
  },
  "cells": [
    {
      "cell_type": "markdown",
      "source": [
        "## what is Pytorch\n",
        "\n",
        "![picture](https://cdn.analyticsvidhya.com/wp-content/uploads/2019/09/pytorch.png)\n",
        "\n",
        "PyTorch is a Python-based library used to build neural networks.\n",
        "\n",
        "It provides classes that allow us to easily develop a suite of deep learning models.\n",
        "\n",
        "It gives maximum flexibility and speed."
      ],
      "metadata": {
        "id": "hnZfVGFOPAWD"
      }
    },
    {
      "cell_type": "markdown",
      "source": [
        "## Install pytorch"
      ],
      "metadata": {
        "id": "d_MRnaAiO_Yf"
      }
    },
    {
      "cell_type": "code",
      "execution_count": null,
      "metadata": {
        "id": "_inaDm29O2Cs"
      },
      "outputs": [],
      "source": [
        "# !conda install pytorch torchvision -c pytorch\n",
        "# # or with GPU\n",
        "# ! conda install pytorch torchvision cudatoolkit=10.1 -c pytorch\n",
        "\n",
        "#https://pytorch.org/"
      ]
    },
    {
      "cell_type": "markdown",
      "source": [
        "###Let's import pytorch and check that it's well installed"
      ],
      "metadata": {
        "id": "ZevvX0TWROTC"
      }
    },
    {
      "cell_type": "code",
      "source": [
        "import torch\n",
        "print(torch.__version__)"
      ],
      "metadata": {
        "colab": {
          "base_uri": "https://localhost:8080/"
        },
        "id": "2kdo2d-DRHEb",
        "outputId": "c8760d2e-b8d0-47fe-9aa1-c47bddd2826a"
      },
      "execution_count": null,
      "outputs": [
        {
          "output_type": "stream",
          "name": "stdout",
          "text": [
            "1.13.1+cu116\n"
          ]
        }
      ]
    },
    {
      "cell_type": "markdown",
      "source": [
        "## Tensors\n",
        "\n",
        "At its core, PyTorch is a library for processing tensors. Tensors are multidimensional arrays. And PyTorch tensors are similar to NumPy’s n-dimensional arrays. We can use these tensors on a GPU as well (this is not the case with NumPy arrays). This is a major advantage of using tensors. A tensor can be a number, vector, matrix, or any n-dimensional array\n",
        "\n",
        "PyTorch supports multiple types of tensors, including:\n",
        "\n",
        "1. FloatTensor: 32-bit float\n",
        "2. DoubleTensor: 64-bit float\n",
        "3. HalfTensor: 16-bit float\n",
        "4. IntTensor: 32-bit int\n",
        "5. LongTensor: 64-bit int\n",
        "\n",
        "\n",
        "\n",
        "\n",
        "\n",
        "\n",
        "\n",
        "\n",
        "Let's create a tensor with a single number."
      ],
      "metadata": {
        "id": "gb5_9wjcRk-L"
      }
    },
    {
      "cell_type": "code",
      "source": [
        "# Number\n",
        "t1 = torch.tensor(4.)\n",
        "print(t1.dtype)\n",
        "print(t1)\n",
        "print(t1.shape)"
      ],
      "metadata": {
        "colab": {
          "base_uri": "https://localhost:8080/"
        },
        "id": "fMLcJ1riRK_o",
        "outputId": "9e5d80ad-1a4f-4273-90c8-a6a4da70ecce"
      },
      "execution_count": null,
      "outputs": [
        {
          "output_type": "stream",
          "name": "stdout",
          "text": [
            "torch.float32\n",
            "tensor(4.)\n",
            "torch.Size([])\n"
          ]
        }
      ]
    },
    {
      "cell_type": "code",
      "source": [
        "# 1d tensor(vector)\n",
        "t2 = torch.tensor([1., 2, 3, 4])\n",
        "print(t2)\n",
        "print(t2.shape)"
      ],
      "metadata": {
        "colab": {
          "base_uri": "https://localhost:8080/"
        },
        "id": "Qz8NW_6CTxhY",
        "outputId": "35977870-c52b-4b6d-ba25-4bde38bf2232"
      },
      "execution_count": null,
      "outputs": [
        {
          "output_type": "stream",
          "name": "stdout",
          "text": [
            "tensor([1., 2., 3., 4.])\n",
            "torch.Size([4])\n"
          ]
        }
      ]
    },
    {
      "cell_type": "code",
      "source": [
        "# 2d tensor or matrix\n",
        "\n",
        "# Matrix\n",
        "t3 = torch.tensor([[5., 6], \n",
        "                   [7, 8], \n",
        "                   [9, 10]])\n",
        "\n",
        "print(t3)\n",
        "print(t3.shape)"
      ],
      "metadata": {
        "colab": {
          "base_uri": "https://localhost:8080/"
        },
        "id": "we39aYDhUDVX",
        "outputId": "5513fc8a-e3a9-4478-a270-069173dee58c"
      },
      "execution_count": null,
      "outputs": [
        {
          "output_type": "stream",
          "name": "stdout",
          "text": [
            "tensor([[ 5.,  6.],\n",
            "        [ 7.,  8.],\n",
            "        [ 9., 10.]])\n",
            "torch.Size([3, 2])\n"
          ]
        }
      ]
    },
    {
      "cell_type": "code",
      "source": [
        "#3d tensor\n",
        "t4 = torch.tensor([\n",
        "    [[11, 12, 13], \n",
        "     [13, 14, 15]], \n",
        "    [[15, 16, 17], \n",
        "     [17, 18, 19.]]])\n",
        "print(t4)\n",
        "print(t4.shape)"
      ],
      "metadata": {
        "colab": {
          "base_uri": "https://localhost:8080/"
        },
        "id": "-M7aIMQ3URZb",
        "outputId": "21bb6a5b-9e19-4be9-abe3-ac489bfb48f7"
      },
      "execution_count": null,
      "outputs": [
        {
          "output_type": "stream",
          "name": "stdout",
          "text": [
            "tensor([[[11., 12., 13.],\n",
            "         [13., 14., 15.]],\n",
            "\n",
            "        [[15., 16., 17.],\n",
            "         [17., 18., 19.]]])\n",
            "torch.Size([2, 2, 3])\n"
          ]
        }
      ]
    },
    {
      "cell_type": "code",
      "source": [
        "t5 = torch.tensor([[2,4 ,5],[2, 4, 5]])\n",
        "print(t5)"
      ],
      "metadata": {
        "colab": {
          "base_uri": "https://localhost:8080/"
        },
        "id": "NaVgK91MplAn",
        "outputId": "2741ec2d-f013-4e0e-89ab-3c553cce0117"
      },
      "execution_count": null,
      "outputs": [
        {
          "output_type": "stream",
          "name": "stdout",
          "text": [
            "tensor([[2, 4, 5],\n",
            "        [2, 4, 5]])\n"
          ]
        }
      ]
    },
    {
      "cell_type": "markdown",
      "source": [
        "## Mathematical operations on tensors"
      ],
      "metadata": {
        "id": "LXyky65lYfti"
      }
    },
    {
      "cell_type": "code",
      "source": [
        "a =  torch.tensor([1., 2, 3, 4])\n",
        "b =  torch.tensor([5., 6, 7, 8])\n",
        "\n",
        "print(\"===========sum of a and b=============\")\n",
        "\n",
        "print(a + b)\n",
        "print()\n",
        "print(\"===========substracting a from b======\")\n",
        "\n",
        "print(b - a)\n",
        "print()\n",
        "\n",
        "print(\"===========multiplying a and b=========\")\n",
        "\n",
        "print(a * b)\n",
        "print()\n",
        "print(\"===========dividing b per a=============\")\n",
        "\n",
        "print(b/a)"
      ],
      "metadata": {
        "colab": {
          "base_uri": "https://localhost:8080/"
        },
        "id": "46O1PQoGYsdB",
        "outputId": "3ac0a840-c21f-4817-8bf7-952e3601754b"
      },
      "execution_count": null,
      "outputs": [
        {
          "output_type": "stream",
          "name": "stdout",
          "text": [
            "===========sum of a and b=============\n",
            "tensor([ 6.,  8., 10., 12.])\n",
            "\n",
            "===========substracting a from b======\n",
            "tensor([4., 4., 4., 4.])\n",
            "\n",
            "===========multiplying a and b=========\n",
            "tensor([ 5., 12., 21., 32.])\n",
            "\n",
            "===========dividing b per a=============\n",
            "tensor([5.0000, 3.0000, 2.3333, 2.0000])\n"
          ]
        }
      ]
    },
    {
      "cell_type": "markdown",
      "source": [
        "## Matrix Initialization\n",
        "\n",
        "### Create  a matrix of shape 3*3 having all zeros"
      ],
      "metadata": {
        "id": "kXkVQbMFVSz-"
      }
    },
    {
      "cell_type": "code",
      "source": [
        "a1= torch.zeros((3,3))\n",
        "a1.shape"
      ],
      "metadata": {
        "id": "F7xrWyWkUcGV",
        "colab": {
          "base_uri": "https://localhost:8080/"
        },
        "outputId": "e52214e0-8157-45ef-ad54-65d57d04a9b2"
      },
      "execution_count": null,
      "outputs": [
        {
          "output_type": "execute_result",
          "data": {
            "text/plain": [
              "torch.Size([3, 3])"
            ]
          },
          "metadata": {},
          "execution_count": 8
        }
      ]
    },
    {
      "cell_type": "markdown",
      "source": [
        "### Create  a matrix of shape 3*3 having all ones"
      ],
      "metadata": {
        "id": "pPqIZztFWdml"
      }
    },
    {
      "cell_type": "code",
      "source": [
        "a2 = torch.ones((3,3))\n",
        "a2"
      ],
      "metadata": {
        "id": "ZiFaNzqaWXwI",
        "colab": {
          "base_uri": "https://localhost:8080/"
        },
        "outputId": "d97cdb5d-4a4e-4812-89f2-4330d835dfa4"
      },
      "execution_count": null,
      "outputs": [
        {
          "output_type": "execute_result",
          "data": {
            "text/plain": [
              "tensor([[1., 1., 1.],\n",
              "        [1., 1., 1.],\n",
              "        [1., 1., 1.]])"
            ]
          },
          "metadata": {},
          "execution_count": 11
        }
      ]
    },
    {
      "cell_type": "markdown",
      "source": [
        "## create  a 3x3 matrix randomly filled"
      ],
      "metadata": {
        "id": "Qyii4eTyWmmz"
      }
    },
    {
      "cell_type": "code",
      "source": [
        "# setting the random seed for pytorch\n",
        "torch.manual_seed(42)\n",
        "#torch.manual_seed(42)\n",
        "# matrix of random numbers\n",
        "## torch.randn returns a tensor filled with random numbers from a normal distribution with mean `0` and variance `1`\n",
        "torch.rand(3,3)"
      ],
      "metadata": {
        "id": "MIoyR8Y5WkZc",
        "colab": {
          "base_uri": "https://localhost:8080/"
        },
        "outputId": "78690ef0-3c42-42d7-b7e1-9e362dd4082a"
      },
      "execution_count": null,
      "outputs": [
        {
          "output_type": "execute_result",
          "data": {
            "text/plain": [
              "tensor([[0.8823, 0.9150, 0.3829],\n",
              "        [0.9593, 0.3904, 0.6009],\n",
              "        [0.2566, 0.7936, 0.9408]])"
            ]
          },
          "metadata": {},
          "execution_count": 15
        }
      ]
    },
    {
      "cell_type": "code",
      "source": [
        "# torch.randint returns a tensor filled with random integers generated uniformly\n",
        "torch.randint(0, 10,(3,3))"
      ],
      "metadata": {
        "id": "7HkKAfVMXBeZ",
        "colab": {
          "base_uri": "https://localhost:8080/"
        },
        "outputId": "7bfe30a0-d710-4f64-cf7a-44d63539d3e2"
      },
      "execution_count": null,
      "outputs": [
        {
          "output_type": "execute_result",
          "data": {
            "text/plain": [
              "tensor([[3, 8, 4],\n",
              "        [0, 4, 1],\n",
              "        [2, 5, 5]])"
            ]
          },
          "metadata": {},
          "execution_count": 17
        }
      ]
    },
    {
      "cell_type": "code",
      "source": [
        "## torch.rand returns a tensor filled with random numbers from a uniform distribution on the interval `[0, 1)`\n",
        "torch.rand(3,3)"
      ],
      "metadata": {
        "id": "ITbrfl6CXTHz",
        "colab": {
          "base_uri": "https://localhost:8080/"
        },
        "outputId": "4f2df2a1-70fd-4ad9-e389-eb4a780638d6"
      },
      "execution_count": null,
      "outputs": [
        {
          "output_type": "execute_result",
          "data": {
            "text/plain": [
              "tensor([[0.2666, 0.6274, 0.2696],\n",
              "        [0.4414, 0.2969, 0.8317],\n",
              "        [0.1053, 0.2695, 0.3588]])"
            ]
          },
          "metadata": {},
          "execution_count": 18
        }
      ]
    },
    {
      "cell_type": "markdown",
      "source": [
        "## Torch tensors and numpy conversion"
      ],
      "metadata": {
        "id": "O6Z2DLz3Yrh4"
      }
    },
    {
      "cell_type": "code",
      "source": [
        "## Tensor to numpy array\n",
        "a = torch.rand(3,3)\n",
        "print(a)\n",
        "## convert a into numpy array b\n",
        "b= a.numpy()\n",
        "## update the tensor a by adding a value to it\n",
        "print(b)\n",
        "##print b\n",
        "a+=2\n",
        "b= a.numpy()\n",
        "print(b)"
      ],
      "metadata": {
        "colab": {
          "base_uri": "https://localhost:8080/"
        },
        "id": "19w7lYoqYzfW",
        "outputId": "ed86e862-64ec-4808-8ccf-f305d940bf36"
      },
      "execution_count": null,
      "outputs": [
        {
          "output_type": "stream",
          "name": "stdout",
          "text": [
            "tensor([[0.0162, 0.2137, 0.6249],\n",
            "        [0.4340, 0.1371, 0.5117],\n",
            "        [0.1585, 0.0758, 0.2247]])\n",
            "[[0.01620269 0.21366489 0.62490183]\n",
            " [0.4340034  0.137057   0.51172835]\n",
            " [0.15845925 0.07580167 0.22466868]]\n",
            "[[2.0162027 2.213665  2.6249018]\n",
            " [2.4340034 2.137057  2.5117283]\n",
            " [2.1584592 2.0758016 2.2246687]]\n"
          ]
        }
      ]
    },
    {
      "cell_type": "code",
      "source": [
        "## Numpy array to tensor\n",
        "import numpy as np\n",
        "\n",
        "a = np.random.rand(3,3)\n",
        "print(a)\n",
        "## convert array a into tensor b\n",
        "b = torch.from_numpy(a).clone()\n",
        "print(b)\n",
        "a+=2\n",
        "print(b)"
      ],
      "metadata": {
        "colab": {
          "base_uri": "https://localhost:8080/"
        },
        "id": "1QFXnN_kZHQN",
        "outputId": "2df2ad39-b067-4de4-c68c-fac4b0305b64"
      },
      "execution_count": null,
      "outputs": [
        {
          "output_type": "stream",
          "name": "stdout",
          "text": [
            "[[0.45071084 0.91712616 0.95031086]\n",
            " [0.8334643  0.31198185 0.77571418]\n",
            " [0.31464454 0.7961014  0.0048962 ]]\n",
            "tensor([[0.4507, 0.9171, 0.9503],\n",
            "        [0.8335, 0.3120, 0.7757],\n",
            "        [0.3146, 0.7961, 0.0049]], dtype=torch.float64)\n",
            "tensor([[0.4507, 0.9171, 0.9503],\n",
            "        [0.8335, 0.3120, 0.7757],\n",
            "        [0.3146, 0.7961, 0.0049]], dtype=torch.float64)\n"
          ]
        }
      ]
    },
    {
      "cell_type": "markdown",
      "source": [
        "## Matrix operations"
      ],
      "metadata": {
        "id": "iNm_40gDZsL7"
      }
    },
    {
      "cell_type": "code",
      "source": [
        "torch.manual_seed(0)\n",
        "a = torch.randn(3,3)\n",
        "\n",
        "b = torch.randn(3,3)\n",
        "print(a)\n",
        "print(b)"
      ],
      "metadata": {
        "colab": {
          "base_uri": "https://localhost:8080/"
        },
        "id": "_PgIwWjTXi5E",
        "outputId": "b24c7498-146b-4711-852b-fbc638af42e2"
      },
      "execution_count": null,
      "outputs": [
        {
          "output_type": "stream",
          "name": "stdout",
          "text": [
            "tensor([[ 1.5410, -0.2934, -2.1788],\n",
            "        [ 0.5684, -1.0845, -1.3986],\n",
            "        [ 0.4033,  0.8380, -0.7193]])\n",
            "tensor([[-0.4033, -0.5966,  0.1820],\n",
            "        [-0.8567,  1.1006, -1.0712],\n",
            "        [ 0.1227, -0.5663,  0.3731]])\n"
          ]
        }
      ]
    },
    {
      "cell_type": "markdown",
      "source": [
        "For addition, substraction and division we can either use torch.add, torch.sub, torch.div or +,  - and /"
      ],
      "metadata": {
        "id": "ASQCTLoGav7Q"
      }
    },
    {
      "cell_type": "code",
      "source": [
        "## compute sum of a and b\n",
        "print(a + b)"
      ],
      "metadata": {
        "id": "QTSGb7o2aJwi",
        "colab": {
          "base_uri": "https://localhost:8080/"
        },
        "outputId": "dd799041-9cdf-49f1-8d80-1e032e4ad0da"
      },
      "execution_count": null,
      "outputs": [
        {
          "output_type": "stream",
          "name": "stdout",
          "text": [
            "tensor([[ 1.1377, -0.8901, -1.9968],\n",
            "        [-0.2882,  0.0161, -2.4698],\n",
            "        [ 0.5260,  0.2717, -0.3461]])\n"
          ]
        }
      ]
    },
    {
      "cell_type": "code",
      "source": [
        "torch.add(a,b)"
      ],
      "metadata": {
        "colab": {
          "base_uri": "https://localhost:8080/"
        },
        "id": "rXyN3__guhQM",
        "outputId": "7e44ac1e-5ca9-440e-914d-afc68c257963"
      },
      "execution_count": null,
      "outputs": [
        {
          "output_type": "execute_result",
          "data": {
            "text/plain": [
              "tensor([[ 1.1377, -0.8901, -1.9968],\n",
              "        [-0.2882,  0.0161, -2.4698],\n",
              "        [ 0.5260,  0.2717, -0.3461]])"
            ]
          },
          "metadata": {},
          "execution_count": 91
        }
      ]
    },
    {
      "cell_type": "code",
      "source": [
        "torch.sub(a,b)"
      ],
      "metadata": {
        "colab": {
          "base_uri": "https://localhost:8080/"
        },
        "id": "0d_rGBzFunYj",
        "outputId": "19ffce22-039e-4915-f877-2cb5bc7d31f0"
      },
      "execution_count": null,
      "outputs": [
        {
          "output_type": "execute_result",
          "data": {
            "text/plain": [
              "tensor([[ 0.0693, -0.4061, -0.5749],\n",
              "        [-0.8800,  0.5669,  0.8026],\n",
              "        [ 1.2502, -1.9601, -0.3555]])"
            ]
          },
          "metadata": {},
          "execution_count": 45
        }
      ]
    },
    {
      "cell_type": "code",
      "source": [
        "## compute a -b\n",
        "print(a-b)"
      ],
      "metadata": {
        "id": "h1pVCjXYaUdF",
        "colab": {
          "base_uri": "https://localhost:8080/"
        },
        "outputId": "2236dff6-930c-4af5-eb3a-b3e4cff4488c"
      },
      "execution_count": null,
      "outputs": [
        {
          "output_type": "stream",
          "name": "stdout",
          "text": [
            "tensor([[ 0.0693, -0.4061, -0.5749],\n",
            "        [-0.8800,  0.5669,  0.8026],\n",
            "        [ 1.2502, -1.9601, -0.3555]])\n"
          ]
        }
      ]
    },
    {
      "cell_type": "code",
      "source": [
        "##compute a / b\n",
        "print(a/b)"
      ],
      "metadata": {
        "id": "kYSAawm9bBR3",
        "colab": {
          "base_uri": "https://localhost:8080/"
        },
        "outputId": "5217e285-712f-48fe-9482-d1c81e94e4fa"
      },
      "execution_count": null,
      "outputs": [
        {
          "output_type": "stream",
          "name": "stdout",
          "text": [
            "tensor([[ 1.2594,  0.2408,  0.2897],\n",
            "        [ 0.2075,  0.6645,  0.1884],\n",
            "        [ 2.3051, -0.4826,  0.5649]])\n"
          ]
        }
      ]
    },
    {
      "cell_type": "code",
      "source": [
        "torch.div(a, b)"
      ],
      "metadata": {
        "colab": {
          "base_uri": "https://localhost:8080/"
        },
        "id": "XAgl7N_MutK4",
        "outputId": "60b610d3-cce4-47f6-f83f-5aac958cf936"
      },
      "execution_count": null,
      "outputs": [
        {
          "output_type": "execute_result",
          "data": {
            "text/plain": [
              "tensor([[ 1.2594,  0.2408,  0.2897],\n",
              "        [ 0.2075,  0.6645,  0.1884],\n",
              "        [ 2.3051, -0.4826,  0.5649]])"
            ]
          },
          "metadata": {},
          "execution_count": 49
        }
      ]
    },
    {
      "cell_type": "code",
      "source": [
        "torch.sum(b, dim=0)"
      ],
      "metadata": {
        "colab": {
          "base_uri": "https://localhost:8080/"
        },
        "id": "Djrlf3vOvthG",
        "outputId": "e611b6ed-2855-42cf-9bcf-f6c783c4b124"
      },
      "execution_count": null,
      "outputs": [
        {
          "output_type": "execute_result",
          "data": {
            "text/plain": [
              "tensor([2.3356, 0.1672, 0.6376])"
            ]
          },
          "metadata": {},
          "execution_count": 52
        }
      ]
    },
    {
      "cell_type": "markdown",
      "source": [
        "## Multiplication\n",
        "\n",
        "### Elementwise multiplication"
      ],
      "metadata": {
        "id": "7kRIG9QBba30"
      }
    },
    {
      "cell_type": "code",
      "source": [
        "a * b\n"
      ],
      "metadata": {
        "id": "p3degTw-bJsG",
        "colab": {
          "base_uri": "https://localhost:8080/"
        },
        "outputId": "3ba62e75-789e-4f8f-c8af-9891dc814705"
      },
      "execution_count": null,
      "outputs": [
        {
          "output_type": "execute_result",
          "data": {
            "text/plain": [
              "tensor([[ 0.0900,  0.0689,  0.1898],\n",
              "        [ 0.2557,  1.8974,  0.1843],\n",
              "        [ 2.1154, -0.8435,  0.3773]])"
            ]
          },
          "metadata": {},
          "execution_count": 53
        }
      ]
    },
    {
      "cell_type": "markdown",
      "source": [
        "### matrix multiplication"
      ],
      "metadata": {
        "id": "aMwc8LAIcU7j"
      }
    },
    {
      "cell_type": "code",
      "source": [
        "##using torch.mm\n",
        "torch.mm(a,b)"
      ],
      "metadata": {
        "id": "fd53sJ0Sbd9q",
        "colab": {
          "base_uri": "https://localhost:8080/"
        },
        "outputId": "892cb8df-7cd0-42dd-ece5-fd68583d321f"
      },
      "execution_count": null,
      "outputs": [
        {
          "output_type": "execute_result",
          "data": {
            "text/plain": [
              "tensor([[ 0.4576,  0.2724,  0.3367],\n",
              "        [-1.3636,  1.7743,  1.1446],\n",
              "        [ 0.3243,  2.8696,  2.7954]])"
            ]
          },
          "metadata": {},
          "execution_count": 54
        }
      ]
    },
    {
      "cell_type": "code",
      "source": [
        "##using torch.matmul\n",
        "torch.matmul(a,b)"
      ],
      "metadata": {
        "id": "ccr4aoIWb0iS",
        "colab": {
          "base_uri": "https://localhost:8080/"
        },
        "outputId": "fe231c72-ef07-4be8-c73b-689f2d89ed3c"
      },
      "execution_count": null,
      "outputs": [
        {
          "output_type": "execute_result",
          "data": {
            "text/plain": [
              "tensor([[ 0.4576,  0.2724,  0.3367],\n",
              "        [-1.3636,  1.7743,  1.1446],\n",
              "        [ 0.3243,  2.8696,  2.7954]])"
            ]
          },
          "metadata": {},
          "execution_count": 55
        }
      ]
    },
    {
      "cell_type": "code",
      "source": [
        "##using @\n",
        "a@b"
      ],
      "metadata": {
        "id": "Z4qTWQg5cbD_",
        "colab": {
          "base_uri": "https://localhost:8080/"
        },
        "outputId": "8fef46b3-c76b-4e3d-c32b-64443311af35"
      },
      "execution_count": null,
      "outputs": [
        {
          "output_type": "execute_result",
          "data": {
            "text/plain": [
              "tensor([[ 0.4576,  0.2724,  0.3367],\n",
              "        [-1.3636,  1.7743,  1.1446],\n",
              "        [ 0.3243,  2.8696,  2.7954]])"
            ]
          },
          "metadata": {},
          "execution_count": 56
        }
      ]
    },
    {
      "cell_type": "markdown",
      "source": [
        "## Reshape, Transpose and concatenate tensors"
      ],
      "metadata": {
        "id": "VUp-M__Tc9_w"
      }
    },
    {
      "cell_type": "code",
      "source": [
        "torch.manual_seed(42)\n",
        "a = torch.randn(3,4)\n",
        "print(a.shape)\n",
        "b = a.reshape(-1, 1)\n",
        "print(b.shape)\n",
        "c = a.reshape(6,2)\n",
        "print(c.shape)"
      ],
      "metadata": {
        "colab": {
          "base_uri": "https://localhost:8080/"
        },
        "id": "9u0m8W2Acfyk",
        "outputId": "0edc4287-261e-442b-9079-52deccc10b1c"
      },
      "execution_count": null,
      "outputs": [
        {
          "output_type": "stream",
          "name": "stdout",
          "text": [
            "torch.Size([3, 4])\n",
            "torch.Size([12, 1])\n",
            "torch.Size([6, 2])\n"
          ]
        }
      ]
    },
    {
      "cell_type": "code",
      "source": [
        "a_t = torch.t(a)\n",
        "print(a_t.shape)"
      ],
      "metadata": {
        "colab": {
          "base_uri": "https://localhost:8080/"
        },
        "id": "AlkTPfirddD1",
        "outputId": "bc622460-efda-416e-a865-9c05014c94b5"
      },
      "execution_count": null,
      "outputs": [
        {
          "output_type": "stream",
          "name": "stdout",
          "text": [
            "torch.Size([4, 3])\n"
          ]
        }
      ]
    },
    {
      "cell_type": "code",
      "source": [
        "print(a.T.shape)"
      ],
      "metadata": {
        "colab": {
          "base_uri": "https://localhost:8080/"
        },
        "id": "aV6zOpsfdmvR",
        "outputId": "db3eac85-ca37-4e9c-c9af-419184c09fdf"
      },
      "execution_count": null,
      "outputs": [
        {
          "output_type": "stream",
          "name": "stdout",
          "text": [
            "torch.Size([4, 3])\n"
          ]
        }
      ]
    },
    {
      "cell_type": "code",
      "source": [
        "b = torch.randn(1, 4)\n",
        "print(b.shape)\n",
        "concat = torch.cat((a, b), dim=0)\n",
        "print(concat.shape)"
      ],
      "metadata": {
        "colab": {
          "base_uri": "https://localhost:8080/"
        },
        "id": "yIRKGWBRdoda",
        "outputId": "0d26edd2-7581-45f4-8f9e-88d936fc4c3e"
      },
      "execution_count": null,
      "outputs": [
        {
          "output_type": "stream",
          "name": "stdout",
          "text": [
            "torch.Size([1, 4])\n",
            "torch.Size([4, 4])\n"
          ]
        }
      ]
    },
    {
      "cell_type": "code",
      "source": [
        "flat_vect = a.flatten()\n",
        "print(flat_vect)\n",
        "flat_vect.shape"
      ],
      "metadata": {
        "colab": {
          "base_uri": "https://localhost:8080/"
        },
        "id": "WebTP3YNKBn1",
        "outputId": "9f560bff-e53c-47b6-a69c-8d0fa6e34be4"
      },
      "execution_count": null,
      "outputs": [
        {
          "output_type": "stream",
          "name": "stdout",
          "text": [
            "tensor([ 0.3367,  0.1288,  0.2345,  0.2303, -1.1229, -0.1863,  2.2082, -0.6380,\n",
            "         0.4617,  0.2674,  0.5349,  0.8094])\n"
          ]
        },
        {
          "output_type": "execute_result",
          "data": {
            "text/plain": [
              "torch.Size([12])"
            ]
          },
          "metadata": {},
          "execution_count": 144
        }
      ]
    },
    {
      "cell_type": "markdown",
      "source": [
        "## Extra reading\n",
        "\n",
        "https://pytorch.org/tutorials/beginner/basics/tensorqs_tutorial.html\n"
      ],
      "metadata": {
        "id": "T8zx-Lx-QNDD"
      }
    },
    {
      "cell_type": "code",
      "source": [],
      "metadata": {
        "id": "tdPHkhJQLXhf"
      },
      "execution_count": null,
      "outputs": []
    }
  ]
}